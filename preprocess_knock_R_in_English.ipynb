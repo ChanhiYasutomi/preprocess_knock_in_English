{
  "cells": [
    {
      "cell_type": "markdown",
      "metadata": {
        "id": "pfh7ZcCMhnQi"
      },
      "source": [
        "# Data Science 100 Knocks (Structured Data Processing) - R\n",
        "\n"
      ]
    },
    {
      "cell_type": "markdown",
      "source": [
        "## 参照(Reference) : 「データサイエンティスト協会スキル定義委員」の「データサイエンス100本ノック（構造化データ加工編）」\n",
        "\n",
        "## The Data Scientist Society Github : https://github.com/The-Japan-DataScientist-Society/100knocks-preprocess\n",
        "\n",
        "## Data Science 100 Knocks (Structured Data Processing) URL : https://github.com/The-Japan-DataScientist-Society/100knocks-preprocess/blob/master/docker/work/preprocess_knock_R.ipynb\n",
        "\n",
        "- Note: This is an ipynb file originally created by The Data Scientist Society(データサイエンティスト協会スキル定義委員) and translated from Japanese to English by DeepL.\n",
        "\n",
        "- The reason I updated this file is to spread this practice, which is useful for everyone who wants to practice R, from beginners to advanced engineers. \n",
        "\n",
        "- Since this data was created for Japanese, you may face language problems when practicing. But do not worry, it will not affect much."
      ],
      "metadata": {
        "id": "RD0Ks24lMFck"
      }
    },
    {
      "cell_type": "markdown",
      "metadata": {
        "id": "BElHuJUHoL_K"
      },
      "source": [
        "## Introduction\n",
        "- To begin with, run the following cells\n",
        "- Import the required libraries and read the data from the database (PostgreSQL)\n",
        "- The libraries that are expected to be used are imported in the following cells\n",
        "- If there are other libraries you wish to use, install them as appropriate using install.packages().\n",
        "- Names, addresses, etc. are dummy data and are not real."
      ]
    },
    {
      "cell_type": "code",
      "source": [
        "require(\"RPostgreSQL\")\n",
        "require(\"tidyr\")\n",
        "require(\"dplyr\")\n",
        "require(\"stringr\")\n",
        "require(\"caret\")\n",
        "require(\"lubridate\")\n",
        "require(\"rsample\")\n",
        "require(\"recipes\")\n",
        "require(\"themis\")\n",
        "\n",
        "host <- \"db\"\n",
        "port <- Sys.getenv()[\"PG_PORT\"]\n",
        "dbname <- Sys.getenv()[\"PG_DATABASE\"]\n",
        "user <- Sys.getenv()[\"PG_USER\"]\n",
        "password <- Sys.getenv()[\"PG_PASSWORD\"]\n",
        "\n",
        "con <- dbConnect(PostgreSQL(), host=host, port=port, dbname=dbname, user=user, password=password)\n",
        "df_customer <- dbGetQuery(con,\"SELECT * FROM customer\")\n",
        "df_category <- dbGetQuery(con,\"SELECT * FROM category\")\n",
        "df_product <- dbGetQuery(con,\"SELECT * FROM product\")\n",
        "df_receipt <- dbGetQuery(con,\"SELECT * FROM receipt\")\n",
        "df_store <- dbGetQuery(con,\"SELECT * FROM store\")\n",
        "df_geocode <- dbGetQuery(con,\"SELECT * FROM geocode\")"
      ],
      "metadata": {
        "id": "QAHQrDMOAh9d"
      },
      "execution_count": null,
      "outputs": []
    },
    {
      "cell_type": "markdown",
      "metadata": {
        "id": "H1csz6z-oL_M"
      },
      "source": [
        "# Practice Questions"
      ]
    },
    {
      "cell_type": "markdown",
      "metadata": {
        "id": "UDun27VFoL_M"
      },
      "source": [
        "---\n",
        "> R-001: Display the first 10 items of all items from the receipt details data (df_receipt) and visually check what data is held."
      ]
    },
    {
      "cell_type": "code",
      "source": [],
      "metadata": {
        "id": "4ZwsqfgF7Pr0"
      },
      "execution_count": null,
      "outputs": []
    },
    {
      "cell_type": "markdown",
      "metadata": {
        "id": "gzfmVkaMoL_M"
      },
      "source": [
        "---\n",
        "> R-002: Display 10 items from the receipt details data (df_receipt), specifying the columns in the order of sales_date (sales_ymd), customer_id (customer_id), product_code (product_cd) and sales amount (amount)."
      ]
    },
    {
      "cell_type": "code",
      "source": [],
      "metadata": {
        "id": "EfRtoj0g7PQO"
      },
      "execution_count": null,
      "outputs": []
    },
    {
      "cell_type": "markdown",
      "metadata": {
        "id": "UWKReR75oL_M"
      },
      "source": [
        "---\n",
        "> R-003: From the receipt details data (df_receipt), specify the columns in order of sales_date (sales_ymd), customer_id (customer_id), product_code (product_cd) and sales_amount (amount) and display 10 items. However, extract while renaming the item from sales_ymd to sales_date."
      ]
    },
    {
      "cell_type": "code",
      "source": [],
      "metadata": {
        "id": "E4Zt0qVR7TxG"
      },
      "execution_count": null,
      "outputs": []
    },
    {
      "cell_type": "markdown",
      "metadata": {
        "id": "PT6GYi1hoL_N"
      },
      "source": [
        "---\n",
        "> R-004: From receipt details data (df_receipt), specify columns in the order of sales_date (sales_ymd), customer ID (customer_id), product code (product_cd) and sales amount (amount) and extract data satisfying the following conditions.\n",
        "\n",
        "> - Customer ID (customer_id) is \"CS018205000001\""
      ]
    },
    {
      "cell_type": "code",
      "source": [],
      "metadata": {
        "id": "HFnwAK-o7V2I"
      },
      "execution_count": null,
      "outputs": []
    },
    {
      "cell_type": "markdown",
      "metadata": {
        "id": "jjeAoKOboL_N"
      },
      "source": [
        "---\n",
        "> R-005: Extract data from receipt details data (df_receipt), specifying columns in the order of sales_date (sales_ymd), customer ID (customer_id), product code (product_cd) and sales amount (amount) and satisfying all the following conditions.\n",
        "> - Customer ID (customer_id) is \"CS018205000001\".\n",
        "> - Sales amount (amount) is 1,000 or more."
      ]
    },
    {
      "cell_type": "code",
      "source": [],
      "metadata": {
        "id": "xZIye1Nz7WKT"
      },
      "execution_count": null,
      "outputs": []
    },
    {
      "cell_type": "markdown",
      "metadata": {
        "id": "ipsxgCtooL_N"
      },
      "source": [
        "---\n",
        "> R-006: Extract data from receipt details data (df_receipt), specifying the columns in the order of sales_date (sales_ymd), customer ID (customer_id), product code (product_cd), sales quantity (quantity) and sales amount (amount) and satisfying all the following conditions.\n",
        "> - Customer ID (customer_id) is \"CS018205000001\".\n",
        "> - Sales amount (amount) is 1,000 or more or sales quantity (quantity) is 5 or more."
      ]
    },
    {
      "cell_type": "code",
      "source": [],
      "metadata": {
        "id": "8L52zqrZ7ZZQ"
      },
      "execution_count": null,
      "outputs": []
    },
    {
      "cell_type": "markdown",
      "metadata": {
        "id": "sN8sp1X7oL_N"
      },
      "source": [
        "---\n",
        "> R-007: From the receipt details data (df_receipt), specify the columns in order of sales date (sales_ymd), customer ID (customer_id), product code (product_cd) and sales amount (amount) and extract data that satisfy all the following conditions.\n",
        "> - Customer ID (customer_id) is \"CS018205000001\".\n",
        "> - Sales amount (amount) is between 1,000 and 2,000."
      ]
    },
    {
      "cell_type": "code",
      "source": [],
      "metadata": {
        "id": "l9aMskr48KyZ"
      },
      "execution_count": null,
      "outputs": []
    },
    {
      "cell_type": "markdown",
      "metadata": {
        "id": "x7HY3OkaoL_O"
      },
      "source": [
        "---\n",
        "> R-008: From the receipt details data (df_receipt), specify the columns in order of sales date (sales_ymd), customer ID (customer_id), product code (product_cd) and sales amount (amount), and extract data satisfying all the following conditions.\n",
        "> - Customer ID (customer_id) is \"CS018205000001\".\n",
        "> - Product code (product_cd) is other than \"P071401019\"."
      ]
    },
    {
      "cell_type": "code",
      "source": [],
      "metadata": {
        "id": "aGyAiFiX8LYq"
      },
      "execution_count": null,
      "outputs": []
    },
    {
      "cell_type": "markdown",
      "metadata": {
        "id": "3koTffAKoL_O"
      },
      "source": [
        "---\n",
        "> R-009: In the following process, rewrite OR to AND without changing the output result.\n",
        ">\n",
        "> `SELECT * FROM store WHERE NOT (prefecture_cd = '13' OR floor_area > 900)`"
      ]
    },
    {
      "cell_type": "code",
      "source": [],
      "metadata": {
        "id": "GRLqi_KN8L5a"
      },
      "execution_count": null,
      "outputs": []
    },
    {
      "cell_type": "markdown",
      "metadata": {
        "id": "JGtyAbYfoL_O"
      },
      "source": [
        "---\n",
        "> R-010: From the shop data (df_store), extract all items whose shop code (store_cd) starts with \"S14\" and display 10 items."
      ]
    },
    {
      "cell_type": "code",
      "source": [],
      "metadata": {
        "id": "oXivyAqL8MQm"
      },
      "execution_count": null,
      "outputs": []
    },
    {
      "cell_type": "markdown",
      "metadata": {
        "id": "-SnIFHNuoL_O"
      },
      "source": [
        "---\n",
        "> R-011: From the customer data (df_customer), extract all items whose customer ID (customer_id) ends with 1, and display 10 items."
      ]
    },
    {
      "cell_type": "code",
      "source": [],
      "metadata": {
        "id": "BTGWTeGt8Nga"
      },
      "execution_count": null,
      "outputs": []
    },
    {
      "cell_type": "markdown",
      "metadata": {
        "id": "DRJQQqQAoL_O"
      },
      "source": [
        "---\n",
        "> R-012: From shop data (df_store), display all items with \"横浜市(Yokohama-city)\" in the address."
      ]
    },
    {
      "cell_type": "code",
      "source": [],
      "metadata": {
        "id": "LaVbVHGe8OME"
      },
      "execution_count": null,
      "outputs": []
    },
    {
      "cell_type": "markdown",
      "metadata": {
        "id": "HuJpc4JVoL_P"
      },
      "source": [
        "---\n",
        "> R-013: From the customer data (df_customer), extract all data whose status code (status_cd) begins with the letters A to F and display 10 items."
      ]
    },
    {
      "cell_type": "code",
      "source": [],
      "metadata": {
        "id": "zX8GaCoY8Og0"
      },
      "execution_count": null,
      "outputs": []
    },
    {
      "cell_type": "markdown",
      "metadata": {
        "id": "YoaaXY3ioL_P"
      },
      "source": [
        "---\n",
        "> R-014: From the customer data (df_customer), extract all data items whose status code (status_cd) ends with the numbers 1 to 9, and display 10 items."
      ]
    },
    {
      "cell_type": "code",
      "source": [],
      "metadata": {
        "id": "l3S8K0Wi8O35"
      },
      "execution_count": null,
      "outputs": []
    },
    {
      "cell_type": "markdown",
      "metadata": {
        "id": "pH_rk7WSoL_P"
      },
      "source": [
        "---\n",
        "> R-015: From the customer data (df_customer), extract all data items whose status code (status_cd) begins with the letters A to F and ends with the numbers 1 to 9, and display 10 items."
      ]
    },
    {
      "cell_type": "code",
      "source": [],
      "metadata": {
        "id": "gxwSMUP78PMr"
      },
      "execution_count": null,
      "outputs": []
    },
    {
      "cell_type": "markdown",
      "metadata": {
        "id": "cQ869NBGoL_P"
      },
      "source": [
        "---\n",
        "> R-016: From the shop data (df_store), display all items of data where the telephone number (tel_no) is 3 digits - 3 digits - 4 digits."
      ]
    },
    {
      "cell_type": "code",
      "source": [],
      "metadata": {
        "id": "nsTARoqf8Pv6"
      },
      "execution_count": null,
      "outputs": []
    },
    {
      "cell_type": "markdown",
      "metadata": {
        "id": "mpp177mEoL_P"
      },
      "source": [
        "---\n",
        "> R-017: Sort customer data (df_customer) by birth_day(birth_day) in order of age and display all 10 items from the top."
      ]
    },
    {
      "cell_type": "code",
      "source": [],
      "metadata": {
        "id": "H2eqEVo-8QFy"
      },
      "execution_count": null,
      "outputs": []
    },
    {
      "cell_type": "markdown",
      "metadata": {
        "id": "vPodc5pcoL_P"
      },
      "source": [
        "---\n",
        "> R-018: Sort customer data (df_customer) by birth_day(birth_day) in descending order, displaying all 10 items from the top."
      ]
    },
    {
      "cell_type": "code",
      "source": [],
      "metadata": {
        "id": "6ZsV-1oO8Qcm"
      },
      "execution_count": null,
      "outputs": []
    },
    {
      "cell_type": "markdown",
      "metadata": {
        "id": "NCHTXQRaoL_P"
      },
      "source": [
        "---\n",
        "> R-019: Rank the receipt details data (df_receipt) in descending order of sales amount per item (amount) and display 10 items from the top. The items shall display the customer ID (customer_id), sales amount (amount) and the rank assigned. If the sales amount (amount) is equal, the same rank shall be assigned."
      ]
    },
    {
      "cell_type": "code",
      "source": [],
      "metadata": {
        "id": "-nAaIcHs8Q9H"
      },
      "execution_count": null,
      "outputs": []
    },
    {
      "cell_type": "markdown",
      "metadata": {
        "id": "TuOv_iAjoL_Q"
      },
      "source": [
        "---\n",
        "> R-020: For receipt details data (df_receipt), assign ranks in descending order of sales amount (amount) per item and display the first 10 items. Items shall display the customer ID (customer_id), sales amount (amount) and the rank assigned. Even if the sales amount (amount) is equal, a different rank should be assigned."
      ]
    },
    {
      "cell_type": "code",
      "source": [],
      "metadata": {
        "id": "IJQLD8vM8RTN"
      },
      "execution_count": null,
      "outputs": []
    },
    {
      "cell_type": "markdown",
      "metadata": {
        "id": "zf-LhViwoL_S"
      },
      "source": [
        "---\n",
        "> R-021: Count the number of cases against the receipt details data (df_receipt)."
      ]
    },
    {
      "cell_type": "code",
      "source": [],
      "metadata": {
        "id": "1kXjJUPT8Rmn"
      },
      "execution_count": null,
      "outputs": []
    },
    {
      "cell_type": "markdown",
      "metadata": {
        "id": "XjL0SluSoL_T"
      },
      "source": [
        "---\n",
        "> R-022: Count the number of unique cases against the customer ID (customer_id) of the receipt details data (df_receipt)."
      ]
    },
    {
      "cell_type": "code",
      "source": [],
      "metadata": {
        "id": "GT0IrEa38SEU"
      },
      "execution_count": null,
      "outputs": []
    },
    {
      "cell_type": "markdown",
      "metadata": {
        "id": "1HQ0_IvyoL_T"
      },
      "source": [
        "---\n",
        "> R-023: Sum the sales amount (amount) and sales quantity (quantity) for each shop code (store_cd) in the receipt details data (df_receipt)."
      ]
    },
    {
      "cell_type": "code",
      "source": [],
      "metadata": {
        "id": "s6DgU0_d8TRD"
      },
      "execution_count": null,
      "outputs": []
    },
    {
      "cell_type": "markdown",
      "metadata": {
        "id": "GFMKlkLVoL_T"
      },
      "source": [
        "---\n",
        "> R-024: Find the most recent sales date (sales_ymd) for each customer ID (customer_id) for the receipt details data (df_receipt) and display the 10 most recent sales dates (sales_ymd)."
      ]
    },
    {
      "cell_type": "code",
      "source": [],
      "metadata": {
        "id": "Etde8-pn8TtJ"
      },
      "execution_count": null,
      "outputs": []
    },
    {
      "cell_type": "markdown",
      "metadata": {
        "id": "P0GthR9boL_T"
      },
      "source": [
        "---\n",
        "> R-025: For receipt details data (df_receipt), find the oldest sales date (sales_ymd) for each customer ID (customer_id) and display the 10 results."
      ]
    },
    {
      "cell_type": "code",
      "source": [],
      "metadata": {
        "id": "PQONkO3p8UCr"
      },
      "execution_count": null,
      "outputs": []
    },
    {
      "cell_type": "markdown",
      "metadata": {
        "id": "0n6wJjoyoL_T"
      },
      "source": [
        "---\n",
        "> R-026: For receipt details data (df_receipt), find the newest sales date (sales_ymd) and the oldest sales date (sales_ymd) for each customer ID (customer_id) and display 10 cases where both are different."
      ]
    },
    {
      "cell_type": "code",
      "source": [],
      "metadata": {
        "id": "fR02nG0H8UVs"
      },
      "execution_count": null,
      "outputs": []
    },
    {
      "cell_type": "markdown",
      "metadata": {
        "id": "2XJPnYrToL_T"
      },
      "source": [
        "---\n",
        "> R-027: For the receipt details data (df_receipt), calculate the average of the sales amount (amount) for each shop code (store_cd) and display the top 5 in descending order."
      ]
    },
    {
      "cell_type": "code",
      "source": [],
      "metadata": {
        "id": "KjdWE_BQ8Up-"
      },
      "execution_count": null,
      "outputs": []
    },
    {
      "cell_type": "markdown",
      "metadata": {
        "id": "iPyenWWEoL_U"
      },
      "source": [
        "---\n",
        "> R-028: Calculate the median sales amount (amount) for each shop code (store_cd) for the receipt details data (df_receipt) and display the TOP 5 in descending order."
      ]
    },
    {
      "cell_type": "code",
      "source": [],
      "metadata": {
        "id": "sUrGI6eG8U-2"
      },
      "execution_count": null,
      "outputs": []
    },
    {
      "cell_type": "markdown",
      "metadata": {
        "id": "881_8-6OoL_U"
      },
      "source": [
        "---\n",
        "> R-029: For receipt details data (df_receipt), calculate the mode value of the product code (product_cd) for each shop code (store_cd) and display 10 cases."
      ]
    },
    {
      "cell_type": "code",
      "source": [],
      "metadata": {
        "id": "1FDrDPL78VSK"
      },
      "execution_count": null,
      "outputs": []
    },
    {
      "cell_type": "markdown",
      "metadata": {
        "id": "-CJ3jA_xoL_U"
      },
      "source": [
        "---\n",
        "> R-030: Calculate the variance of the sales amount (amount) for each shop code (store_cd) against the receipt details data (df_receipt) and display five cases in descending order."
      ]
    },
    {
      "cell_type": "code",
      "source": [],
      "metadata": {
        "id": "URuN_8Fq8V3m"
      },
      "execution_count": null,
      "outputs": []
    },
    {
      "cell_type": "markdown",
      "metadata": {
        "id": "Z0LkAYHEoL_U"
      },
      "source": [
        "---\n",
        "> R-031: Calculate the standard deviation of the sales amount (amount) for each shop code (store_cd) for the receipt details data (df_receipt) and display 5 cases in descending order."
      ]
    },
    {
      "cell_type": "code",
      "source": [],
      "metadata": {
        "id": "SDAPdQZE8WaT"
      },
      "execution_count": null,
      "outputs": []
    },
    {
      "cell_type": "markdown",
      "metadata": {
        "id": "pFW3xrlFoL_U"
      },
      "source": [
        "---\n",
        "> R-032: Find the percentile values for the sales amount (amount) in the receipt details data (df_receipt) in 25% increments."
      ]
    },
    {
      "cell_type": "code",
      "source": [],
      "metadata": {
        "id": "gictmcuJ8YiM"
      },
      "execution_count": null,
      "outputs": []
    },
    {
      "cell_type": "markdown",
      "metadata": {
        "id": "6KAexVPPoL_U"
      },
      "source": [
        "---\n",
        "> R-033: Calculate the average of the sales amount (amount) for each shop code (store_cd) for the receipt details data (df_receipt) and extract those that are 330 or more."
      ]
    },
    {
      "cell_type": "code",
      "source": [],
      "metadata": {
        "id": "fObV8bY48Y3n"
      },
      "execution_count": null,
      "outputs": []
    },
    {
      "cell_type": "markdown",
      "metadata": {
        "id": "D5w_S3VUoL_V"
      },
      "source": [
        "---\n",
        "> R-034: For the receipt details data (df_receipt), sum the amount of sales (amount) for each customer ID (customer_id) and find the average for all customers. However, exclude customer IDs starting with \"Z\" as they represent non-members."
      ]
    },
    {
      "cell_type": "code",
      "source": [],
      "metadata": {
        "id": "ZMPW1rdq8ZM6"
      },
      "execution_count": null,
      "outputs": []
    },
    {
      "cell_type": "markdown",
      "metadata": {
        "id": "iwSTlhFXoL_V"
      },
      "source": [
        "---\n",
        "> R-035: For the receipt details data (df_receipt), sum the sales amount (amount) for each customer ID (customer_id) to obtain the average of all customers, extract the customers who spend more than the average and display 10 items. However, exclude customer IDs starting with \"Z\" as they represent non-members."
      ]
    },
    {
      "cell_type": "code",
      "source": [],
      "metadata": {
        "id": "KPLDdOiT8ZhQ"
      },
      "execution_count": null,
      "outputs": []
    },
    {
      "cell_type": "markdown",
      "metadata": {
        "id": "o-BU4YK-oL_V"
      },
      "source": [
        "---\n",
        "> R-036: Combine receipt details data (df_receipt) and shop data (df_store) internally and display all items of receipt details data and store name (store_name) of shop data for 10 items."
      ]
    },
    {
      "cell_type": "code",
      "source": [],
      "metadata": {
        "id": "BYJnTs_M8Z0Z"
      },
      "execution_count": null,
      "outputs": []
    },
    {
      "cell_type": "markdown",
      "metadata": {
        "id": "vZTwwOmdoL_V"
      },
      "source": [
        "---\n",
        "> R-037: Join product data (df_product) and category data (df_category) internally and display all items of the product data and 10 category sub-category names (category_small_name) of the category data."
      ]
    },
    {
      "cell_type": "code",
      "source": [],
      "metadata": {
        "id": "093xPKyt8aOL"
      },
      "execution_count": null,
      "outputs": []
    },
    {
      "cell_type": "markdown",
      "metadata": {
        "id": "fD39f7dDoL_V"
      },
      "source": [
        "---\n",
        "> R-038: Calculate the total sales amount for each customer from the customer data (df_customer) and receipt details data (df_receipt) and display 10 items. However, for customers with no sales records, the sales amount should be displayed as 0. Customers whose gender code (gender_cd) is female (1) should be included, and non-members (whose customer ID starts with \"Z\") should be excluded."
      ]
    },
    {
      "cell_type": "code",
      "source": [],
      "metadata": {
        "id": "H3SATdLn8aj4"
      },
      "execution_count": null,
      "outputs": []
    },
    {
      "cell_type": "markdown",
      "metadata": {
        "id": "eEzGNF90oL_V"
      },
      "source": [
        "---\n",
        "> R-039: From the receipt details data (df_receipt), create a data set containing the top 20 customers with the highest number of days of sales and a data set containing the top 20 customers with the highest total sales value, respectively, and furthermore, merge these two completely externally. However, exclude non-members (whose customer ID starts with \"Z\")."
      ]
    },
    {
      "cell_type": "code",
      "source": [],
      "metadata": {
        "id": "MFxYwjW48a3m"
      },
      "execution_count": null,
      "outputs": []
    },
    {
      "cell_type": "markdown",
      "metadata": {
        "id": "JaFVjHAKoL_W"
      },
      "source": [
        "---\n",
        "> S-040: You want to create data combining all shops and all products. Direct product the shop data (df_store) and the product data (df_product) and calculate the number of cases."
      ]
    },
    {
      "cell_type": "code",
      "source": [],
      "metadata": {
        "id": "Q3TWahGF8bKF"
      },
      "execution_count": null,
      "outputs": []
    },
    {
      "cell_type": "markdown",
      "metadata": {
        "id": "C0CeqV1UoL_W"
      },
      "source": [
        "---\n",
        "> R-041: Sum up the sales amount (amount) of the receipt details data (df_receipt) by date (sales_ymd) and calculate the increase or decrease in sales amount from the date of the last sale. And display 10 results."
      ]
    },
    {
      "cell_type": "code",
      "source": [],
      "metadata": {
        "id": "oAjqCnjr8bdx"
      },
      "execution_count": null,
      "outputs": []
    },
    {
      "cell_type": "markdown",
      "metadata": {
        "id": "pY0K_4mNoL_W"
      },
      "source": [
        "---\n",
        "> R-042: Tabulate the sales amount (amount) of the receipt details data (df_receipt) by date (sales_ymd), and for each date, combine the data of the last, previous and three previous sales dates. Then display 10 results."
      ]
    },
    {
      "cell_type": "code",
      "source": [],
      "metadata": {
        "id": "M4p_ZfQA8b6V"
      },
      "execution_count": null,
      "outputs": []
    },
    {
      "cell_type": "markdown",
      "metadata": {
        "id": "r61dgqRKoL_W"
      },
      "source": [
        "---\n",
        "> R-043: Combine receipt details data (df_receipt) and customer data (df_customer) to create sales summary data, summing the sales amount (amount) by gender code (gender_cd) and age (calculated from age). Gender_cd should be 0 for male, 1 for female and 9 for unknown.\n",
        "\n",
        ">\n",
        "> However, the item structure should consist of four items: age, female sales amount, male sales amount and sales amount of unknown gender (vertical cross tabulation of age and horizontal cross tabulation of gender). In addition, the age shall be in deciles of 10 years."
      ]
    },
    {
      "cell_type": "code",
      "source": [],
      "metadata": {
        "id": "M7Ec5cVv8cNG"
      },
      "execution_count": null,
      "outputs": []
    },
    {
      "cell_type": "markdown",
      "metadata": {
        "id": "f9Rz04U0oL_W"
      },
      "source": [
        "---\n",
        "> R-044: The sales summary data (df_sales_summary) created in 043 had sales by gender carried horizontally. From this data, convert the gender into three items: age, gender code and sales amount, by having the gender carried vertically. The gender code should be \"00\" for male, \"01\" for female and \"99\" for unknown."
      ]
    },
    {
      "cell_type": "code",
      "source": [],
      "metadata": {
        "id": "4_JYFu3O8cim"
      },
      "execution_count": null,
      "outputs": []
    },
    {
      "cell_type": "markdown",
      "metadata": {
        "id": "hjSR8LgcoL_X"
      },
      "source": [
        "---\n",
        "> R-045: The date of birth (birth_day) in the customer data (df_customer) is held in date type. Convert this to a string in YYYYMMDD format and display 10 cases together with the customer ID (customer_id)."
      ]
    },
    {
      "cell_type": "code",
      "source": [],
      "metadata": {
        "id": "Z7NqjXWM8c1-"
      },
      "execution_count": null,
      "outputs": []
    },
    {
      "cell_type": "markdown",
      "metadata": {
        "id": "ps877ZvjoL_X"
      },
      "source": [
        "---\n",
        "> R-046: The application date (application_date) of the customer data (df_customer) holds data in a string type in YYYYMMDD format. Convert this to a date type and display 10 cases together with the customer ID (customer_id)."
      ]
    },
    {
      "cell_type": "code",
      "source": [],
      "metadata": {
        "id": "zkwqAPiQ8d1_"
      },
      "execution_count": null,
      "outputs": []
    },
    {
      "cell_type": "markdown",
      "metadata": {
        "id": "J7XUUMVQoL_X"
      },
      "source": [
        "---\n",
        "> R-047: The sales date (sales_ymd) of the receipt details data (df_receipt) holds data in numeric type in YYYYMMDD format. Convert this to a date type and display 10 items together with the receipt number (receipt_no) and receipt sub-number (receipt_sub_no)."
      ]
    },
    {
      "cell_type": "code",
      "source": [],
      "metadata": {
        "id": "X0MCAZxo8eLU"
      },
      "execution_count": null,
      "outputs": []
    },
    {
      "cell_type": "markdown",
      "metadata": {
        "id": "-jceLnHCoL_X"
      },
      "source": [
        "---\n",
        "> R-048: The sales epoch seconds (sales_epoch) of the receipt details data (df_receipt) holds data in UNIX seconds of numeric type. Convert it to date type and display 10 cases together with receipt number (receipt_no) and receipt sub-number (receipt_sub_no)."
      ]
    },
    {
      "cell_type": "code",
      "source": [],
      "metadata": {
        "id": "57tXg8Ch8ee1"
      },
      "execution_count": null,
      "outputs": []
    },
    {
      "cell_type": "markdown",
      "metadata": {
        "id": "OFGP3TmToL_X"
      },
      "source": [
        "---\n",
        "> R-049: Convert the sales epoch seconds (sales_epoch) of the receipt details data (df_receipt) to date type, extract only the \"年(year)\" and display 10 items with receipt number (receipt_no) and receipt sub-number (receipt_sub_no)."
      ]
    },
    {
      "cell_type": "code",
      "source": [],
      "metadata": {
        "id": "WJ3g_IVG8fQH"
      },
      "execution_count": null,
      "outputs": []
    },
    {
      "cell_type": "markdown",
      "metadata": {
        "id": "rraiGGLuoL_X"
      },
      "source": [
        "---\n",
        "> R-050: Convert the sales epoch seconds (sales_epoch) of the receipt details data (df_receipt) to date type, extract only the \"月(month)\" and display 10 items with receipt number (receipt_no) and receipt sub number (receipt_sub_no). Note that the \"月(month)\" should be retrieved with two digits filled with zero."
      ]
    },
    {
      "cell_type": "code",
      "source": [],
      "metadata": {
        "id": "7NIZv5MD8fyE"
      },
      "execution_count": null,
      "outputs": []
    },
    {
      "cell_type": "markdown",
      "metadata": {
        "id": "BI93eqc3oL_X"
      },
      "source": [
        "---\n",
        "> R-051: Convert the sales epoch seconds of the receipt details data (df_receipt) to date type, extract only the \"日(day)\" and display 10 items with receipt number (receipt_no) and receipt sub-number (receipt_sub_no). Note that the \"日(day)\" should be extracted with two digits filled with zero."
      ]
    },
    {
      "cell_type": "code",
      "source": [],
      "metadata": {
        "id": "qNR8bY-h8gG3"
      },
      "execution_count": null,
      "outputs": []
    },
    {
      "cell_type": "markdown",
      "metadata": {
        "id": "obb8bMo9oL_Y"
      },
      "source": [
        "---\n",
        "> R-052: Sum the sales amount (amount) of the receipt details data (df_receipt) for each customer ID (customer_id), binaryise the total sales amount to 0 for amounts less than 2,000 yen and 1 for amounts greater than 2,000 yen, and display 10 items with the customer ID and total sales amount. Display 10 items together with the customer ID and the total sales amount. However, exclude customer IDs starting with \"Z\" as they represent non-members."
      ]
    },
    {
      "cell_type": "code",
      "source": [],
      "metadata": {
        "id": "vC3GdDuq8gZP"
      },
      "execution_count": null,
      "outputs": []
    },
    {
      "cell_type": "markdown",
      "metadata": {
        "id": "7uzlaE-eoL_Y"
      },
      "source": [
        "---\n",
        "> R-053: Binarise the postcode (postal_cd) of the customer data (df_customer) to 1 for Tokyo (the first three digits are 100 to 209) and 0 for all others. Further, combine it with the receipt details data (df_receipt) and count the number of customers with sales results for the entire period, for each binary value created."
      ]
    },
    {
      "cell_type": "code",
      "source": [],
      "metadata": {
        "id": "dyZ3J6bq8gr_"
      },
      "execution_count": null,
      "outputs": []
    },
    {
      "cell_type": "markdown",
      "metadata": {
        "id": "Ccd5RPlKoL_Y"
      },
      "source": [
        "---\n",
        "> R-054: The address of the customer data (df_customer) is one of 埼玉県(Saitama-prefecture), 千葉県(Chiba-prefecture), 東京都(Tokyo-Metropolitan) or 神奈川県(Kanagawa-prefecture). Create a code value for each prefecture, and display 10 cases together with the customer ID and address. The values should be 11 for 埼玉県(Saitama-prefecture), 12 for 千葉県(Chiba-prefecture), 13 for 東京都(Tokyo-Metropolitan) and 14 for 神奈川県(Kanagawa-prefecture)."
      ]
    },
    {
      "cell_type": "code",
      "source": [],
      "metadata": {
        "id": "ttxzPGsS8g9j"
      },
      "execution_count": null,
      "outputs": []
    },
    {
      "cell_type": "markdown",
      "metadata": {
        "id": "HMqw-BfDoL_Y"
      },
      "source": [
        "---\n",
        "> R-055: Sum the sales amount (amount) of the receipt details (df_receipt) data for each customer ID (customer_id) and find the quartile point of the total amount. Then, create category values for the total sales amount for each customer based on the following criteria, and display the 10 results together with the customer ID and the total sales amount. The category values shall be 1-4 in order.\n",
        "\n",
        ">\n",
        "> - Minimum value and above and below the first quartile - Assign 1.\n",
        "> - First quartile and above but below the second quartile - Assign 2.\n",
        "> - Second quartile and above but below the third quartile - Assign 3.\n",
        "> - Third quartile and above - Assign 4."
      ]
    },
    {
      "cell_type": "code",
      "source": [],
      "metadata": {
        "id": "W-OCIayE8hdq"
      },
      "execution_count": null,
      "outputs": []
    },
    {
      "cell_type": "markdown",
      "metadata": {
        "id": "uRoyQ2VWoL_Z"
      },
      "source": [
        "---\n",
        "> R-056: Calculate the age in 10-year age increments based on the age (age) of the customer data (df_customer) and display 10 cases together with the customer ID (customer_id) and date of birth (birth_day). However, all age groups above 60 years should be assumed to be in the 60s. The name of the category representing the age is optional."
      ]
    },
    {
      "cell_type": "code",
      "source": [],
      "metadata": {
        "id": "90t3FmxG8hxz"
      },
      "execution_count": null,
      "outputs": []
    },
    {
      "cell_type": "markdown",
      "metadata": {
        "id": "2o9QAQnxoL_Z"
      },
      "source": [
        "---\n",
        "> R-057: Using the extraction results of 056 and the gender code (gender_cd), create new category data representing the combination of gender x age and display 10 cases. The value of the category representing the combination shall be arbitrary."
      ]
    },
    {
      "cell_type": "code",
      "source": [],
      "metadata": {
        "id": "gpb8-ikc8iKV"
      },
      "execution_count": null,
      "outputs": []
    },
    {
      "cell_type": "markdown",
      "metadata": {
        "id": "9yxH2t7hoL_Z"
      },
      "source": [
        "---\n",
        "> R-058: Create a dummy variable for the gender code (gender_cd) of the customer data (df_customer) and display 10 cases together with the customer ID (customer_id)."
      ]
    },
    {
      "cell_type": "code",
      "source": [],
      "metadata": {
        "id": "3DCOw82b8ieY"
      },
      "execution_count": null,
      "outputs": []
    },
    {
      "cell_type": "markdown",
      "metadata": {
        "id": "o-1xMixqoL_Z"
      },
      "source": [
        "---\n",
        "> R-059: Sum the sales amount (amount) of the receipt details data (df_receipt) for each customer ID (customer_id), standardise the total sales amount to mean 0 and standard deviation 1 and display 10 cases with the customer ID and total sales amount. The standard deviation used for standardisation may be either the square root of the variance or the square root of the unbiased variance. However, exclude customer IDs starting with \"Z\", as they represent non-members."
      ]
    },
    {
      "cell_type": "code",
      "source": [],
      "metadata": {
        "id": "7EoeOkwo8iuh"
      },
      "execution_count": null,
      "outputs": []
    },
    {
      "cell_type": "markdown",
      "metadata": {
        "id": "lS3ueBNZoL_Z"
      },
      "source": [
        "---\n",
        "> R-060: Sum the sales amount (amount) of the receipt details data (df_receipt) for each customer ID (customer_id), normalise the total sales amount to a minimum value of 0 and a maximum value of 1 and display 10 items with the customer ID and total sales amount. However, exclude customer IDs starting with \"Z\" as they represent non-members."
      ]
    },
    {
      "cell_type": "code",
      "source": [],
      "metadata": {
        "id": "IaDp_xyQ8jEN"
      },
      "execution_count": null,
      "outputs": []
    },
    {
      "cell_type": "markdown",
      "metadata": {
        "id": "l9szkCxpoL_a"
      },
      "source": [
        "---\n",
        "> R-061: Sum the sales amount (amount) of the receipt details data (df_receipt) for each customer ID (customer_id), convert the total sales amount to ordinary logarithm (bottom 10) and display 10 items with customer ID and total sales amount. However, exclude customer IDs starting with \"Z\" as they represent non-members."
      ]
    },
    {
      "cell_type": "code",
      "source": [],
      "metadata": {
        "id": "twKStq_j8jVD"
      },
      "execution_count": null,
      "outputs": []
    },
    {
      "cell_type": "markdown",
      "metadata": {
        "id": "dfd9UV6QoL_a"
      },
      "source": [
        "---\n",
        "> R-062: Sum the sales amount (amount) of the receipt details data (df_receipt) for each customer ID (customer_id), convert the total sales amount to the natural logarithm (bottom e) and display 10 items with the customer ID and total sales amount. However, exclude customer IDs starting with \"Z\" as they represent non-members."
      ]
    },
    {
      "cell_type": "code",
      "source": [],
      "metadata": {
        "id": "GUbq8Yba8koC"
      },
      "execution_count": null,
      "outputs": []
    },
    {
      "cell_type": "markdown",
      "metadata": {
        "id": "L0Qx5KvloL_a"
      },
      "source": [
        "---\n",
        "> R-063: Calculate the profit amount of each product from the unit price(unit price) and cost of the product(unit_cost) data (df_product) and display 10 results."
      ]
    },
    {
      "cell_type": "code",
      "source": [],
      "metadata": {
        "id": "-CImo1ZB8k7e"
      },
      "execution_count": null,
      "outputs": []
    },
    {
      "cell_type": "markdown",
      "metadata": {
        "id": "Fl-ThauioL_a"
      },
      "source": [
        "---\n",
        "> R-064: Calculate the overall average profit margin for each product from the unit price (unit_price) and cost (unit_cost) of the product data (df_product). Note, however, that unit_price and cost are missing."
      ]
    },
    {
      "cell_type": "code",
      "source": [],
      "metadata": {
        "id": "uOneuYh98lco"
      },
      "execution_count": null,
      "outputs": []
    },
    {
      "cell_type": "markdown",
      "metadata": {
        "id": "6tzGAFwDoL_a"
      },
      "source": [
        "---\n",
        "> R-065: For each product in the product data (df_product), find the new unit price that gives a profit margin of 30%. However, round down to the nearest yen. Then display 10 results and confirm that the profit margin is approximately around 30%. Note that there is a deficit in unit_price（unit_price） and unit_cost（unit_cost）."
      ]
    },
    {
      "cell_type": "code",
      "source": [],
      "metadata": {
        "id": "ERD2fjcg8ltj"
      },
      "execution_count": null,
      "outputs": []
    },
    {
      "cell_type": "markdown",
      "metadata": {
        "id": "4_-1y06GoL_a"
      },
      "source": [
        "---\n",
        "> R-066: For each product in the product data (df_product), find a new unit price that gives a profit margin of 30%. This time, round to the nearest yen (rounding or rounding to even numbers is fine). Then display 10 results and check that the profit margin is around 30%. Note, however, that there are deficiencies in unit_price（unit_price） and unit_cost（unit_cost）."
      ]
    },
    {
      "cell_type": "code",
      "source": [],
      "metadata": {
        "id": "QGnf980Q8l_c"
      },
      "execution_count": null,
      "outputs": []
    },
    {
      "cell_type": "markdown",
      "metadata": {
        "id": "xwDTQGvsoL_b"
      },
      "source": [
        "---\n",
        "> R-067: For each product in the product data (df_product), find a new unit price that gives a profit margin of 30%. This time, round up to the nearest yen. Then display 10 results and check that the profit margin is around 30%. Note, however, that there is a deficit in the unit price (unit_price) and cost (unit_cost)."
      ]
    },
    {
      "cell_type": "code",
      "source": [],
      "metadata": {
        "id": "XHzFIknU8mU_"
      },
      "execution_count": null,
      "outputs": []
    },
    {
      "cell_type": "markdown",
      "metadata": {
        "id": "Jg6JWaeQoL_b"
      },
      "source": [
        "---\n",
        "> R-068: For each product in the product data (df_product), find the amount including tax at a consumption tax rate of 10%, rounding down fractions of a yen and displaying 10 results. Note that the unit price (unit_price) is missing."
      ]
    },
    {
      "cell_type": "code",
      "source": [],
      "metadata": {
        "id": "z3JrzsSL8mob"
      },
      "execution_count": null,
      "outputs": []
    },
    {
      "cell_type": "markdown",
      "metadata": {
        "id": "9g20XRm8oL_b"
      },
      "source": [
        "---\n",
        "> R-069: Combine receipt details data (df_receipt) and product data (df_product), calculate the total sales value of all products for each customer and the total sales value of products whose category major classification code (category_major_cd) is \"07\" (bottled canned food), and find the ratio between the two. Only customers with a sales record for category major category code \"07\" (bottled canned food) should be selected, and 10 results should be displayed."
      ]
    },
    {
      "cell_type": "code",
      "source": [],
      "metadata": {
        "id": "O_k84lEi8m5V"
      },
      "execution_count": null,
      "outputs": []
    },
    {
      "cell_type": "markdown",
      "metadata": {
        "id": "J1GsZ-XIoL_b"
      },
      "source": [
        "---\n",
        "> R-070: Calculate the number of days elapsed from the membership application date (application_date) of the customer data (df_customer) against the sales date (sales_ymd) of the receipt details data (df_receipt) and display 10 items with the customer ID (customer_id), sales date and membership application date. (Note that sales_ymd is numeric and application_date is a string)."
      ]
    },
    {
      "cell_type": "code",
      "source": [],
      "metadata": {
        "id": "w0ZvWVEn8ne9"
      },
      "execution_count": null,
      "outputs": []
    },
    {
      "cell_type": "markdown",
      "metadata": {
        "id": "E9t9J7JwoL_b"
      },
      "source": [
        "---\n",
        "> R-071: Calculate the number of months elapsed from the membership application date (application_date) of the customer data (df_customer) against the sales date (sales_ymd) of the receipt details data (df_receipt), and display 10 items with customer ID (customer_id), sales date and membership application date (Note that sales_ymd is a number and application_date is a string)."
      ]
    },
    {
      "cell_type": "code",
      "source": [],
      "metadata": {
        "id": "nmDwU0Mb8nx-"
      },
      "execution_count": null,
      "outputs": []
    },
    {
      "cell_type": "markdown",
      "metadata": {
        "id": "i0vFJY28oL_c"
      },
      "source": [
        "---\n",
        "> R-072: Calculate the number of years elapsed from the membership application date (application_date) of the customer data (df_customer) against the sales date (df_customer) of the receipt details data (df_receipt), and display 10 items with customer ID (customer_id), sales date and membership application date (Note that sales_ymd is a number and application_date is a string)."
      ]
    },
    {
      "cell_type": "code",
      "source": [],
      "metadata": {
        "id": "T1jQ7PZj8oC9"
      },
      "execution_count": null,
      "outputs": []
    },
    {
      "cell_type": "markdown",
      "metadata": {
        "id": "MtsRK-zLoL_c"
      },
      "source": [
        "---\n",
        "> R-073: Calculate the elapsed time in epoch seconds from the membership application date (application_date) of the customer data (df_customer) against the sales date (sales_ymd) of the receipt details data (df_receipt), and display 10 items with customer ID (customer_id), sales date and note that sales_ymd is held as a number and application_date as a string. Note that no time information is held, so each date should represent 0:00:00:00."
      ]
    },
    {
      "cell_type": "code",
      "source": [],
      "metadata": {
        "id": "F5oFC_kA8osK"
      },
      "execution_count": null,
      "outputs": []
    },
    {
      "cell_type": "markdown",
      "metadata": {
        "id": "C2BX5sEcoL_c"
      },
      "source": [
        "---\n",
        "> R-074: For the sales date (sales_ymd) of the receipt details data (df_receipt), calculate the number of days elapsed since Monday of the week in question and display 10 items together with the sales date and the previous Monday (note that sales_ymd holds data in numerical form)."
      ]
    },
    {
      "cell_type": "code",
      "source": [],
      "metadata": {
        "id": "2iiuLFm28pBq"
      },
      "execution_count": null,
      "outputs": []
    },
    {
      "cell_type": "markdown",
      "metadata": {
        "id": "rwaCwcNloL_c"
      },
      "source": [
        "---\n",
        "> R-075: Randomly extract 1% of the data from the customer data (df_customer) and display the first 10 items."
      ]
    },
    {
      "cell_type": "code",
      "source": [],
      "metadata": {
        "id": "AxsuyWFg8pXF"
      },
      "execution_count": null,
      "outputs": []
    },
    {
      "cell_type": "markdown",
      "metadata": {
        "id": "9oXLFKuVoL_c"
      },
      "source": [
        "---\n",
        "> R-076: Extract 10% of the data stratified randomly from the customer data (df_customer) based on the percentage of gender code (gender_cd) and count the number of cases by gender code"
      ]
    },
    {
      "cell_type": "code",
      "source": [],
      "metadata": {
        "id": "4maxuN0z8ptB"
      },
      "execution_count": null,
      "outputs": []
    },
    {
      "cell_type": "markdown",
      "metadata": {
        "id": "7VQzvEq1oL_d"
      },
      "source": [
        "---\n",
        "> R-077: Sum the sales amounts in the receipt details data (df_receipt) by customer unit and extract outliers of the summed sales amounts. The outliers should be calculated by logarithmising the total sales amount, calculating the mean and standard deviation, and then deviating from the mean by more than 3σ (either the natural logarithm or the ordinary logarithm is acceptable). Display 10 results."
      ]
    },
    {
      "cell_type": "code",
      "source": [],
      "metadata": {
        "id": "o6U7Tr998qRY"
      },
      "execution_count": null,
      "outputs": []
    },
    {
      "cell_type": "markdown",
      "metadata": {
        "id": "QXNcl-i5oL_d"
      },
      "source": [
        "---\n",
        "> R-078: Sum the sales amount (amount) of the receipt details data (df_receipt) in customer units and extract outliers of the summed sales amount. However, exclude those whose customer ID starts with \"Z\", as they represent non-members. Outliers are defined as the difference between the first and third quartiles using IQR, and are defined as being below \"first quartile - 1.5 x IQR\" or above \"third quartile + 1.5 x IQR\". Show 10 results."
      ]
    },
    {
      "cell_type": "code",
      "source": [],
      "metadata": {
        "id": "I3gCHWK68qkN"
      },
      "execution_count": null,
      "outputs": []
    },
    {
      "cell_type": "markdown",
      "metadata": {
        "id": "a_2yaucloL_d"
      },
      "source": [
        "---\n",
        "> R-079: For each item of product data (df_product), check the number of missing items."
      ]
    },
    {
      "cell_type": "code",
      "source": [],
      "metadata": {
        "id": "bylxY6iY8q60"
      },
      "execution_count": null,
      "outputs": []
    },
    {
      "cell_type": "markdown",
      "metadata": {
        "id": "82N1t3YzoL_d"
      },
      "source": [
        "---\n",
        "> R-080: Create a new product data, deleting all records where any item in the product data (df_product) is missing. Note that the number of items before and after the deletion should be displayed, and also confirm that the number of items has decreased by the number of items checked in 079."
      ]
    },
    {
      "cell_type": "code",
      "source": [],
      "metadata": {
        "id": "rz-bbhma8rNb"
      },
      "execution_count": null,
      "outputs": []
    },
    {
      "cell_type": "markdown",
      "metadata": {
        "id": "3jgSZLYHoL_d"
      },
      "source": [
        "---\n",
        "> R-081: Create new product data for the missing values of unit_price（unit_price） and unit_cost（unit_cost）, supplemented by the average value of each. Note that for the average values, round off values less than one yen (rounding off or rounding to even numbers is acceptable). After completion, also check that there are no missing values for each item."
      ]
    },
    {
      "cell_type": "code",
      "source": [],
      "metadata": {
        "id": "ee3ixgbh8rl-"
      },
      "execution_count": null,
      "outputs": []
    },
    {
      "cell_type": "markdown",
      "metadata": {
        "id": "dw8MVDDkoL_e"
      },
      "source": [
        "---\n",
        "> R-082: Create new product data for missing values of unit_price(unit_price) and unit_cost(unit_cost), supplemented by the median value of each. Note that for the median value, round off the figures to the nearest yen (rounding off or rounding to even numbers is acceptable). After completion, also check that there are no missing values for each item."
      ]
    },
    {
      "cell_type": "code",
      "source": [],
      "metadata": {
        "id": "BhwxyXY_8r6U"
      },
      "execution_count": null,
      "outputs": []
    },
    {
      "cell_type": "markdown",
      "metadata": {
        "id": "whuX1KBIoL_e"
      },
      "source": [
        "---\n",
        "> R-083: Create new product data for the missing values of unit price(unit_price) and unit cost(unit cost), supplemented by the median value calculated for each product category sub-category code (category_small_cd). Note that the median value should be rounded to the nearest yen (rounding off or rounding to even numbers is acceptable). After completion, also check that there are no deficiencies for each item."
      ]
    },
    {
      "cell_type": "code",
      "source": [],
      "metadata": {
        "id": "R1dha5Wo8sYC"
      },
      "execution_count": null,
      "outputs": []
    },
    {
      "cell_type": "markdown",
      "metadata": {
        "id": "HW4UB0TRoL_e"
      },
      "source": [
        "---\n",
        "> R-084: Prepare new data for all customers in the customer data (df_customer) by calculating the percentage of the 2019 sales value to the sales value for the whole period. However, if there are no sales results, treat them as 0. Then, extract the calculated percentages that exceed 0 and display the results for 10 cases. Also check that there are no missing data in the data created."
      ]
    },
    {
      "cell_type": "code",
      "source": [],
      "metadata": {
        "id": "nCYIcC-K8tMd"
      },
      "execution_count": null,
      "outputs": []
    },
    {
      "cell_type": "markdown",
      "metadata": {
        "id": "5JvQku1AoL_e"
      },
      "source": [
        "---\n",
        "> R-085: Create new customer data by linking geocode data (df_geocode) to all customers in the customer data (df_customer) using postcode (postal_cd). However, if multiple longitude (longitude) and latitude (latitude) information is associated with a single postcode (postal_cd), calculate and use the average values of longitude (longitude) and latitude (latitude). Also, display 10 results to check the creation results."
      ]
    },
    {
      "cell_type": "code",
      "source": [],
      "metadata": {
        "id": "NqWbz68D8tl6"
      },
      "execution_count": null,
      "outputs": []
    },
    {
      "cell_type": "markdown",
      "metadata": {
        "id": "qGEArCKuoL_f"
      },
      "source": [
        "---\n",
        "> R-086: For the customer data with latitude(latitude) and longitude(longitude) created in 085, combine it with shop data (df_store) using the member application shop code (application_store_cd) as key. Calculate the distance (in km) between the application shop and the customer address using the latitude(latitude) and longitude information (longitude) of the application shop and the latitude and longitude of the customer address (address), and display it together with the customer ID (customer_id), customer address and shop address (address). The following simple formula should be used as the calculation formula, but libraries using other highly accurate methods are also acceptable. Display 10 results.\n",
        "\n",
        "\n",
        "$$\n",
        "\\mbox{Latitude（radians）}：\\phi \\\\\n",
        "\\mbox{Longitude（radians）}：\\lambda \\\\\n",
        "\\mbox{Distance }L = 6371 * \\arccos(\\sin \\phi_1 * \\sin \\phi_2\n",
        "+ \\cos \\phi_1 * \\cos \\phi_2 * \\cos(\\lambda_1 − \\lambda_2))\n",
        "$$"
      ]
    },
    {
      "cell_type": "code",
      "source": [],
      "metadata": {
        "id": "FAXMtGn58uAV"
      },
      "execution_count": null,
      "outputs": []
    },
    {
      "cell_type": "markdown",
      "metadata": {
        "id": "UwNd72_LoL_f"
      },
      "source": [
        "---\n",
        "> R-087: In the customer data (df_customer), the same customer is registered more than once, e.g. due to applications at different shops. Create the named customer data, in which customers with the same name (customer_name) and postcode (postal_cd) are regarded as the same customer and are collated so that there is one record per customer, and calculate the number of customer data, the number of named customer data and the number of duplicates. However, for the same customer, the one with the highest total sales amount shall be retained, and for customers with the same total sales amount or no sales record, the one with the lowest customer ID (customer_id) number shall be retained."
      ]
    },
    {
      "cell_type": "code",
      "source": [],
      "metadata": {
        "id": "jqZx7-cg8u7r"
      },
      "execution_count": null,
      "outputs": []
    },
    {
      "cell_type": "markdown",
      "metadata": {
        "id": "Qe6E8uZ1oL_f"
      },
      "source": [
        "---\n",
        "> R-088: Based on the data created in 087, create data with integrated name IDs for the customer data. However, the integrated name ID shall be assigned according to the following specifications.\n",
        ">\n",
        "> - Non-duplicated customers: set customer ID (customer_id)\n",
        "> - Duplicate customers: set the customer ID of the record extracted in the previous question\n",
        "> \n",
        "> The difference between the number of unique customer IDs and the number of unique integration name-drop IDs shall also be checked."
      ]
    },
    {
      "cell_type": "code",
      "source": [],
      "metadata": {
        "id": "fQjF-G9J8vOo"
      },
      "execution_count": null,
      "outputs": []
    },
    {
      "cell_type": "markdown",
      "metadata": {
        "id": "cGzvUHfLoL_f"
      },
      "source": [
        "---\n",
        "> R-089: You want to split customers with sales records into training data and test data for building a forecasting model. Split the data randomly in the ratio of 8:2 respectively."
      ]
    },
    {
      "cell_type": "code",
      "source": [],
      "metadata": {
        "id": "tWS2ZCUW8vjV"
      },
      "execution_count": null,
      "outputs": []
    },
    {
      "cell_type": "markdown",
      "metadata": {
        "id": "P0i7V6MNoL_f"
      },
      "source": [
        "---\n",
        "> R-090: The receipt details data (df_receipt) has data from 1 Jan 2017 to 31 Oct 2019. Create three sets of data for building time-series models, 12 months for training and 6 months for testing, by aggregating the sales amount (amount) on a monthly basis."
      ]
    },
    {
      "cell_type": "code",
      "source": [],
      "metadata": {
        "id": "UHdal28T8v30"
      },
      "execution_count": null,
      "outputs": []
    },
    {
      "cell_type": "markdown",
      "metadata": {
        "id": "RMQ_qDAsoL_g"
      },
      "source": [
        "---\n",
        "> R-091: For each customer in the customer data (df_customer), under-sample the number of customers with sales performance and the number of customers without sales performance so that the ratio is 1:1."
      ]
    },
    {
      "cell_type": "code",
      "source": [],
      "metadata": {
        "id": "wYExFagU8wLl"
      },
      "execution_count": null,
      "outputs": []
    },
    {
      "cell_type": "markdown",
      "metadata": {
        "id": "X97-DYujoL_g"
      },
      "source": [
        "---\n",
        "> R-092: Normalise to third normal form for gender in customer data (df_customer)."
      ]
    },
    {
      "cell_type": "code",
      "source": [],
      "metadata": {
        "id": "O4CVjUz78wfc"
      },
      "execution_count": null,
      "outputs": []
    },
    {
      "cell_type": "markdown",
      "metadata": {
        "id": "675ArdrKoL_g"
      },
      "source": [
        "---\n",
        "> R-093: Product data (df_product) only holds the code values for each category, but not the category names. Combine with category data (df_category) and denormalise to create new product data that holds category names."
      ]
    },
    {
      "cell_type": "code",
      "source": [],
      "metadata": {
        "id": "jJJghNns8ww9"
      },
      "execution_count": null,
      "outputs": []
    },
    {
      "cell_type": "markdown",
      "metadata": {
        "id": "MwQ56QQroL_g"
      },
      "source": [
        "---\n",
        "> R-094: File out the product data with category names created in 093 with the following specifications.\n",
        "> \n",
        "> |file format|with/without header|character encoding|\n",
        "> |:--:|:--:|:--:|\n",
        "> |CSV (comma-separated value)|With|UTF-8|\n",
        "> \n",
        "> The path to the file output destination should be as follows (COPY command authorisation granted).\n",
        "> \n",
        "> |Output destination|\n",
        "> |:--:|\n",
        "> |/tmp/data|\n",
        "> \n",
        "> * By specifying \"/tmp/data\", the data is shared with Jupyter's \"/work/data\"."
      ]
    },
    {
      "cell_type": "code",
      "source": [],
      "metadata": {
        "id": "huvuOKA58xJF"
      },
      "execution_count": null,
      "outputs": []
    },
    {
      "cell_type": "markdown",
      "metadata": {
        "id": "KT6VaFpooL_h"
      },
      "source": [
        "---\n",
        "> R-095: File out the product data with category names created in 093 with the following specifications.\n",
        "> \n",
        "> |file format|with/without header|character encoding|\n",
        "> |:--:|:--:|:--:|\n",
        "> |CSV (comma-separated value)|With|CP932|\n",
        "> \n",
        "> In PostgreSQL, specifying Shift_JIS is equivalent to CP932. The path to the file output destination should be as follows (COPY command permissions have been granted).\n",
        "> \n",
        "> |Output destination|\n",
        "> |:--:|\n",
        "> |/tmp/data|\n",
        "> \n",
        "> * By specifying \"/tmp/data\", the data is shared with Jupyter's \"/work/data\"."
      ]
    },
    {
      "cell_type": "code",
      "source": [],
      "metadata": {
        "id": "nKcTcvxm8xhW"
      },
      "execution_count": null,
      "outputs": []
    },
    {
      "cell_type": "markdown",
      "metadata": {
        "id": "zONGd0yPoL_h"
      },
      "source": [
        "---\n",
        "> R-096: File out the product data with category names created in 093 with the following specifications.\n",
        "> \n",
        "> |file format|with/without header|character encoding|\n",
        "> |:--:|:--:|:--:|\n",
        "> |CSV (comma-separated value)|Without|UTF-8|\n",
        "> \n",
        "> The path to the file output destination should be as follows (COPY command authorisation granted).\n",
        "> \n",
        "> |Output destination|\n",
        "> |:--:|\n",
        "> |/tmp/data|\n",
        "> \n",
        "> * By specifying \"/tmp/data\", the data is shared with Jupyter's \"/work/data\"."
      ]
    },
    {
      "cell_type": "code",
      "source": [],
      "metadata": {
        "id": "-zrXxw938yPM"
      },
      "execution_count": null,
      "outputs": []
    },
    {
      "cell_type": "markdown",
      "metadata": {
        "id": "GRFUyljeoL_h"
      },
      "source": [
        "---\n",
        "> R-097: Load the file in the following format created in 094, display three data items and check that they have been imported correctly.\n",
        "> \n",
        "> |File format|With/without header|Character encoding|\n",
        "> |:--:|:--:|:--:|\n",
        "> |CSV (comma separated)|With|UTF-8|"
      ]
    },
    {
      "cell_type": "code",
      "source": [],
      "metadata": {
        "id": "vDBYyNuT8ylQ"
      },
      "execution_count": null,
      "outputs": []
    },
    {
      "cell_type": "markdown",
      "metadata": {
        "id": "XQ6blH3ToL_h"
      },
      "source": [
        "---\n",
        "> R-098: Load the file in the following format created in 096, display three data items and check that they are imported correctly.\n",
        "> \n",
        "> |File format|With/without header|Character encoding|\n",
        "> |:--:|:--:|:--:|\n",
        "> |CSV (comma separated)|Without|UTF-8|"
      ]
    },
    {
      "cell_type": "code",
      "source": [],
      "metadata": {
        "id": "2wx_6hXt8zCa"
      },
      "execution_count": null,
      "outputs": []
    },
    {
      "cell_type": "markdown",
      "metadata": {
        "id": "8sHGKNDLoL_h"
      },
      "source": [
        "---\n",
        "> R-099: File out the product data with category names created in 093 with the following specifications.\n",
        "> \n",
        "> |file format|with/without header|character encoding|\n",
        "> |:--:|:--:|:--:|\n",
        "> |TSV (Tab Separated Values)|With|UTF-8|\n",
        "> \n",
        "> The path to the file output destination should be as follows (COPY command authorisation has been granted).\n",
        "> \n",
        "> |Output destination|\n",
        "> |:--:|\n",
        "> |/tmp/data|\n",
        "> \n",
        "> * By specifying \"/tmp/data\", the data is shared with Jupyter's \"/work/data\"."
      ]
    },
    {
      "cell_type": "code",
      "source": [],
      "metadata": {
        "id": "QwYk6CKh8zVt"
      },
      "execution_count": null,
      "outputs": []
    },
    {
      "cell_type": "markdown",
      "metadata": {
        "id": "H86_TqG0oL_i"
      },
      "source": [
        "---\n",
        "> R-100: Load the file in the following format created in 099, display three items of data and check that they have been imported correctly.\n",
        "> \n",
        "> |File format|With/without header|Character encoding|\n",
        "> |:--:|:--:|:--:|\n",
        "> |TSV (Tab Separated)|With|UTF-8|"
      ]
    },
    {
      "cell_type": "code",
      "source": [],
      "metadata": {
        "id": "RFvgDHbr8z5w"
      },
      "execution_count": null,
      "outputs": []
    },
    {
      "cell_type": "markdown",
      "metadata": {
        "id": "WtTveoLwoL_i"
      },
      "source": [
        "# This is the end of the 100. Well done!"
      ]
    }
  ],
  "metadata": {
    "kernelspec": {
      "display_name": "Python 3 (ipykernel)",
      "language": "python",
      "name": "python3"
    },
    "language_info": {
      "codemirror_mode": {
        "name": "ipython",
        "version": 3
      },
      "file_extension": ".py",
      "mimetype": "text/x-python",
      "name": "python",
      "nbconvert_exporter": "python",
      "pygments_lexer": "ipython3",
      "version": "3.9.6"
    },
    "colab": {
      "provenance": []
    }
  },
  "nbformat": 4,
  "nbformat_minor": 0
}
